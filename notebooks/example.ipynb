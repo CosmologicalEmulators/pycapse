{
 "cells": [
  {
   "attachments": {},
   "cell_type": "markdown",
   "metadata": {},
   "source": [
    "# `pycapse` usage example\n",
    "\n",
    "In this notebook, we'll show how to use `pycapse` to predict the correlation functions.\n",
    "\n",
    "## Loading relevant libraries\n",
    "\n",
    "The first step is to import the relevant libraries"
   ]
  },
  {
   "cell_type": "code",
   "execution_count": 1,
   "metadata": {},
   "outputs": [
    {
     "name": "stdout",
     "output_type": "stream",
     "text": [
      "[juliapkg] Locating Julia ^1.9.2\n",
      "[juliapkg] Using Julia 1.9.2 at /home/marcobonici/Desktop/julia_installations/julia-1.9.2/bin/julia\n",
      "[juliapkg] Using Julia project at /home/marcobonici/miniconda3/julia_env\n",
      "[juliapkg] Installing packages:\n",
      "           julia> import Pkg\n",
      "           julia> Pkg.add([Pkg.PackageSpec(name=\"Capse\", uuid=\"994f66c3-d2c7-4ba6-88fb-4a10f50800ba\", url=raw\"https://github.com/CosmologicalEmulators/Capse.jl\"), Pkg.PackageSpec(name=\"FastSSC\", uuid=\"37e8ce18-d1d7-4c8c-8df3-ee5c7349b1cc\", url=raw\"https://github.com/marcobonici/FastSSC.jl\"), Pkg.PackageSpec(name=\"PythonCall\", uuid=\"6099a3de-0909-46bc-b1f4-468b9a2dfc0d\")])\n",
      "           julia> Pkg.resolve()\n",
      "           julia> Pkg.precompile()\n"
     ]
    },
    {
     "name": "stderr",
     "output_type": "stream",
     "text": [
      "    Updating git-repo `https://github.com/CosmologicalEmulators/Capse.jl`\n",
      "    Updating git-repo `https://github.com/marcobonici/FastSSC.jl`\n",
      "   Resolving package versions...\n",
      "    Updating `~/miniconda3/julia_env/Project.toml`\n",
      "  [994f66c3] + Capse v0.2.0 `https://github.com/CosmologicalEmulators/Capse.jl#main`\n",
      "  [37e8ce18] + FastSSC v0.1.0 `https://github.com/marcobonici/FastSSC.jl#main`\n",
      "  [6099a3de] + PythonCall v0.9.14\n",
      "    Updating `~/miniconda3/julia_env/Manifest.toml`\n",
      "  [47edcb42] + ADTypes v0.2.1\n",
      "  [c83c1981] + AbstractCosmologicalEmulators v0.3.1\n",
      "  [79e6a3ab] + Adapt v3.6.2\n",
      "  [4fba245c] + ArrayInterface v7.4.11\n",
      "  [30b0a656] + ArrayInterfaceCore v0.1.29\n",
      "  [a9b6321e] + Atomix v0.1.0\n",
      "  [62783981] + BitTwiddlingConvenienceFunctions v0.1.5\n",
      "  [fa961155] + CEnum v0.4.2\n",
      "  [2a0fbf3d] + CPUSummary v0.2.3\n",
      "  [994f66c3] + Capse v0.2.0 `https://github.com/CosmologicalEmulators/Capse.jl#main`\n",
      "  [d360d2e6] + ChainRulesCore v1.16.0\n",
      "  [fb6a15b2] + CloseOpenIntervals v0.1.12\n",
      "  [bbf7d656] + CommonSubexpressions v0.3.0\n",
      "  [34da2185] + Compat v4.9.0\n",
      "  [2569d6c7] + ConcreteStructs v0.2.3\n",
      "  [992eb4ea] + CondaPkg v0.2.18\n",
      "  [187b0558] + ConstructionBase v1.5.3\n",
      "  [adafc99b] + CpuId v0.3.1\n",
      "  [9a962f9c] + DataAPI v1.15.0\n",
      "  [e2d170a0] + DataValueInterfaces v1.0.0\n",
      "  [163ba53b] + DiffResults v1.1.0\n",
      "  [b552c78f] + DiffRules v1.15.1\n",
      "  [ffbed154] + DocStringExtensions v0.9.3\n",
      "  [37e8ce18] + FastSSC v0.1.0 `https://github.com/marcobonici/FastSSC.jl#main`\n",
      "  [f6369f11] + ForwardDiff v0.10.36\n",
      "  [d9f16b24] + Functors v0.4.5\n",
      "  [46192b85] + GPUArraysCore v0.1.5\n",
      "  [3e5b6fbb] + HostCPUFeatures v0.1.16\n",
      "  [615f187c] + IfElse v0.1.1\n",
      "  [92d709cd] + IrrationalConstants v0.2.2\n",
      "  [82899510] + IteratorInterfaceExtensions v1.0.0\n",
      "  [692b3bcd] + JLLWrappers v1.5.0\n",
      "  [0f8b85d8] + JSON3 v1.13.2\n",
      "  [63c18a36] + KernelAbstractions v0.9.8\n",
      "  [929cbde3] + LLVM v6.1.0\n",
      "  [10f19ff3] + LayoutPointers v0.1.14\n",
      "  [2ab3a3ac] + LogExpFunctions v0.3.26\n",
      "  [bdcacae8] + LoopVectorization v0.12.165\n",
      "  [b2108857] + Lux v0.5.2\n",
      "  [bb33d45b] + LuxCore v0.1.5\n",
      "  [34f89e08] + LuxDeviceUtils v0.1.6\n",
      "  [82251201] + LuxLib v0.3.2\n",
      "  [1914dd2f] + MacroTools v0.5.11\n",
      "  [d125e4d3] + ManualMemory v0.1.8\n",
      "  [0b3b1443] + MicroMamba v0.1.14\n",
      "  [872c559c] + NNlib v0.9.4\n",
      "  [77ba4419] + NaNMath v1.0.2\n",
      "  [6fe1bfb0] + OffsetArrays v1.12.10\n",
      "  [3bd65402] + Optimisers v0.2.20\n",
      "  [bac558e1] + OrderedCollections v1.6.2\n",
      "  [65ce6f38] + PackageExtensionCompat v1.0.1\n",
      "  [69de0a69] + Parsers v2.7.2\n",
      "  [570af359] + PartialFunctions v1.1.1\n",
      "  [fa939f87] + Pidfile v1.3.0\n",
      "  [f517fe37] + Polyester v0.7.5\n",
      "  [1d0040c9] + PolyesterWeave v0.2.1\n",
      "  [aea7be01] + PrecompileTools v1.2.0\n",
      "  [21216c6a] + Preferences v1.4.0\n",
      "  [6099a3de] + PythonCall v0.9.14\n",
      "  [189a3867] + Reexport v1.2.2\n",
      "  [ae029012] + Requires v1.3.0\n",
      "  [94e857df] + SIMDTypes v0.1.0\n",
      "  [476501e8] + SLEEFPirates v0.6.39\n",
      "  [6c6a2e73] + Scratch v1.2.0\n",
      "  [efcf1570] + Setfield v1.1.1\n",
      "  [de6bee2f] + SimpleChains v0.4.5\n",
      "  [66db9d55] + SnoopPrecompile v1.0.3\n",
      "  [276daf66] + SpecialFunctions v2.3.1\n",
      "  [aedffcd0] + Static v0.8.8\n",
      "  [0d7ed370] + StaticArrayInterface v1.4.0\n",
      "  [90137ffa] + StaticArrays v1.6.2\n",
      "  [1e83bf80] + StaticArraysCore v1.4.2\n",
      "  [7792a7ef] + StrideArraysCore v0.4.17\n",
      "  [856f2bd8] + StructTypes v1.10.0\n",
      "  [3783bdb8] + TableTraits v1.0.1\n",
      "  [bd369af6] + Tables v1.10.1\n",
      "  [8290d209] + ThreadingUtilities v0.5.2\n",
      "  [781d530d] + TruncatedStacktraces v1.4.0\n",
      "  [3a884ed6] + UnPack v1.0.2\n",
      "  [013be700] + UnsafeAtomics v0.2.1\n",
      "  [d80eeb9a] + UnsafeAtomicsLLVM v0.1.3\n",
      "  [e17b2a0c] + UnsafePointers v1.0.0\n",
      "  [3d5dd08c] + VectorizationBase v0.21.64\n",
      "  [33b4df10] + VectorizedRNG v0.2.24\n",
      "  [d49dbf32] + WeightInitializers v0.1.0\n",
      "  [dad2f222] + LLVMExtra_jll v0.0.23+0\n",
      "  [efe28fd5] + OpenSpecFun_jll v0.5.5+0\n",
      "  [f8abcde7] + micromamba_jll v1.4.9+0\n",
      "  [0dad84c5] + ArgTools v1.1.1\n",
      "  [56f22d72] + Artifacts\n",
      "  [2a0f44e3] + Base64\n",
      "  [ade2ca70] + Dates\n",
      "  [8ba89e20] + Distributed\n",
      "  [f43a241f] + Downloads v1.6.0\n",
      "  [7b1f6079] + FileWatching\n",
      "  [9fa8497b] + Future\n",
      "  [b77e0a4c] + InteractiveUtils\n",
      "  [4af54fe1] + LazyArtifacts\n",
      "  [b27032c2] + LibCURL v0.6.3\n",
      "  [76f85450] + LibGit2\n",
      "  [8f399da3] + Libdl\n",
      "  [37e2e46d] + LinearAlgebra\n",
      "  [56ddb016] + Logging\n",
      "  [d6f4376e] + Markdown\n",
      "  [a63ad114] + Mmap\n",
      "  [ca575930] + NetworkOptions v1.2.0\n",
      "  [44cfe95a] + Pkg v1.9.2\n",
      "  [de0858da] + Printf\n",
      "  [3fa0cd96] + REPL\n",
      "  [9a3f8284] + Random\n",
      "  [ea8e919c] + SHA v0.7.0\n",
      "  [9e88b42a] + Serialization\n",
      "  [6462fe0b] + Sockets\n",
      "  [2f01184e] + SparseArrays\n",
      "  [10745b16] + Statistics v1.9.0\n",
      "  [4607b0f0] + SuiteSparse\n",
      "  [fa267f1f] + TOML v1.0.3\n",
      "  [a4e569a6] + Tar v1.10.0\n",
      "  [8dfed614] + Test\n",
      "  [cf7118a7] + UUIDs\n",
      "  [4ec0a83e] + Unicode\n",
      "  [e66e0078] + CompilerSupportLibraries_jll v1.0.5+0\n",
      "  [deac9b47] + LibCURL_jll v7.84.0+0\n",
      "  [29816b5a] + LibSSH2_jll v1.10.2+0\n",
      "  [c8ffd9c3] + MbedTLS_jll v2.28.2+0\n",
      "  [14a3606d] + MozillaCACerts_jll v2022.10.11\n",
      "  [4536629a] + OpenBLAS_jll v0.3.21+4\n",
      "  [05823500] + OpenLibm_jll v0.8.1+0\n",
      "  [bea87d4a] + SuiteSparse_jll v5.10.1+6\n",
      "  [83775a58] + Zlib_jll v1.2.13+0\n",
      "  [8e850b90] + libblastrampoline_jll v5.8.0+0\n",
      "  [8e850ede] + nghttp2_jll v1.48.0+0\n",
      "  [3f19e933] + p7zip_jll v17.4.0+0\n",
      "  No Changes to `~/miniconda3/julia_env/Project.toml`\n",
      "  No Changes to `~/miniconda3/julia_env/Manifest.toml`\n"
     ]
    }
   ],
   "source": [
    "import numpy as np\n",
    "import json\n",
    "import pycapse as pc\n",
    "import matplotlib.pyplot as plt\n",
    "plt.rc('text', usetex=True)\n",
    "plt.rc('font', family='serif')"
   ]
  },
  {
   "attachments": {},
   "cell_type": "markdown",
   "metadata": {},
   "source": [
    "## Loading the trained emulator\n",
    "After succesfully loading `pybora`, we need to load the trained emulator"
   ]
  },
  {
   "cell_type": "code",
   "execution_count": 2,
   "metadata": {},
   "outputs": [],
   "source": [
    "f = open('nn_setup.json')\n",
    " \n",
    "# returns JSON object as\n",
    "# a dictionary\n",
    "nn_setup = json.load(f)"
   ]
  },
  {
   "cell_type": "code",
   "execution_count": 3,
   "metadata": {},
   "outputs": [
    {
     "data": {
      "text/plain": [
       "dict"
      ]
     },
     "execution_count": 3,
     "metadata": {},
     "output_type": "execute_result"
    }
   ],
   "source": [
    "type(nn_setup)"
   ]
  },
  {
   "cell_type": "code",
   "execution_count": 4,
   "metadata": {},
   "outputs": [
    {
     "ename": "JuliaError",
     "evalue": "MethodError: no method matching _get_layer_simplechains(::PyDict{Any, Any})\n\nClosest candidates are:\n  _get_layer_simplechains(!Matched::Dict)\n   @ AbstractCosmologicalEmulators ~/.julia/packages/AbstractCosmologicalEmulators/yb82p/src/initialization.jl:1\n\nStacktrace:\n [1] (::AbstractCosmologicalEmulators.var\"#3#4\"{Dict{String, Any}})(i::Int64)\n   @ AbstractCosmologicalEmulators ./none:0\n [2] iterate(::Base.Generator{UnitRange{Int64}, AbstractCosmologicalEmulators.var\"#3#4\"{Dict{String, Any}}})\n   @ Base ./generator.jl:47\n [3] _get_nn_simplechains(input_dict::Dict{String, Any})\n   @ AbstractCosmologicalEmulators ~/.julia/packages/AbstractCosmologicalEmulators/yb82p/src/initialization.jl:42\n [4] _init_simplechainsemulator(NN_dict::Dict{String, Any}, weight::Vector{Float32})\n   @ AbstractCosmologicalEmulators ~/.julia/packages/AbstractCosmologicalEmulators/yb82p/src/initialization.jl:122\n [5] init_emulator(NN_dict::Dict{String, Any}, weight::Vector{Float32}, #unused#::Type{AbstractCosmologicalEmulators.SimpleChainsEmulator})\n   @ AbstractCosmologicalEmulators ~/.julia/packages/AbstractCosmologicalEmulators/yb82p/src/initialization.jl:129\n [6] pyjlany_call(self::typeof(AbstractCosmologicalEmulators.init_emulator), args_::Py, kwargs_::Py)\n   @ PythonCall ~/.julia/packages/PythonCall/qTEA1/src/jlwrap/any.jl:37\n [7] _pyjl_callmethod(f::Any, self_::Ptr{PythonCall.C.PyObject}, args_::Ptr{PythonCall.C.PyObject}, nargs::Int64)\n   @ PythonCall ~/.julia/packages/PythonCall/qTEA1/src/jlwrap/base.jl:69\n [8] _pyjl_callmethod(o::Ptr{PythonCall.C.PyObject}, args::Ptr{PythonCall.C.PyObject})\n   @ PythonCall.C ~/.julia/packages/PythonCall/qTEA1/src/cpython/jlwrap.jl:47",
     "output_type": "error",
     "traceback": [
      "\u001b[0;31m---------------------------------------------------------------------------\u001b[0m",
      "\u001b[0;31mJuliaError\u001b[0m                                Traceback (most recent call last)",
      "Cell \u001b[0;32mIn[4], line 4\u001b[0m\n\u001b[1;32m      1\u001b[0m ℓ \u001b[39m=\u001b[39m np\u001b[39m.\u001b[39mload(\u001b[39m\"\u001b[39m\u001b[39ml.npy\u001b[39m\u001b[39m\"\u001b[39m)\n\u001b[1;32m      3\u001b[0m weights_TT \u001b[39m=\u001b[39m np\u001b[39m.\u001b[39mload(\u001b[39m\"\u001b[39m\u001b[39mweights_TT_lcdm.npy\u001b[39m\u001b[39m\"\u001b[39m)\n\u001b[0;32m----> 4\u001b[0m trained_emu_TT \u001b[39m=\u001b[39m pc\u001b[39m.\u001b[39;49minit_emulator(nn_setup, weights_TT, pc\u001b[39m.\u001b[39;49msimplechainsemulator)\n\u001b[1;32m      5\u001b[0m CℓTT_emu \u001b[39m=\u001b[39m Capse\u001b[39m.\u001b[39mCℓEmulator(TrainedEmulator \u001b[39m=\u001b[39m trained_emu_TT, ℓgrid \u001b[39m=\u001b[39m ℓ,\n\u001b[1;32m      6\u001b[0m                              InMinMax \u001b[39m=\u001b[39m npzread(weights_folder\u001b[39m*\u001b[39m\u001b[39m\"\u001b[39m\u001b[39minMinMax_lcdm.npy\u001b[39m\u001b[39m\"\u001b[39m),\n\u001b[1;32m      7\u001b[0m                              OutMinMax \u001b[39m=\u001b[39m npzread(weights_folder\u001b[39m*\u001b[39m\u001b[39m\"\u001b[39m\u001b[39moutMinMaxCℓTT_lcdm.npy\u001b[39m\u001b[39m\"\u001b[39m))\n",
      "File \u001b[0;32m~/miniconda3/lib/python3.9/site-packages/pycapse/pycapse.py:39\u001b[0m, in \u001b[0;36minit_emulator\u001b[0;34m(NN_dict, weights, emu_kind)\u001b[0m\n\u001b[1;32m     38\u001b[0m \u001b[39mdef\u001b[39;00m \u001b[39minit_emulator\u001b[39m(NN_dict, weights, emu_kind):\n\u001b[0;32m---> 39\u001b[0m     \u001b[39mreturn\u001b[39;00m __init_emulator(juliacall\u001b[39m.\u001b[39;49mconvert(jl\u001b[39m.\u001b[39;49mDict, NN_dict), jl\u001b[39m.\u001b[39;49mcollect(weights), emu_kind)\n",
      "File \u001b[0;32m~/.julia/packages/PythonCall/qTEA1/src/jlwrap/any.jl:208\u001b[0m, in \u001b[0;36m__call__\u001b[0;34m(self, *args, **kwargs)\u001b[0m\n\u001b[1;32m    206\u001b[0m     return ValueBase.__dir__(self) + self._jl_callmethod($(pyjl_methodnum(pyjlany_dir)))\n\u001b[1;32m    207\u001b[0m def __call__(self, *args, **kwargs):\n\u001b[0;32m--> 208\u001b[0m     return self._jl_callmethod($(pyjl_methodnum(pyjlany_call)), args, kwargs)\n\u001b[1;32m    209\u001b[0m def __bool__(self):\n\u001b[1;32m    210\u001b[0m     return True\n",
      "\u001b[0;31mJuliaError\u001b[0m: MethodError: no method matching _get_layer_simplechains(::PyDict{Any, Any})\n\nClosest candidates are:\n  _get_layer_simplechains(!Matched::Dict)\n   @ AbstractCosmologicalEmulators ~/.julia/packages/AbstractCosmologicalEmulators/yb82p/src/initialization.jl:1\n\nStacktrace:\n [1] (::AbstractCosmologicalEmulators.var\"#3#4\"{Dict{String, Any}})(i::Int64)\n   @ AbstractCosmologicalEmulators ./none:0\n [2] iterate(::Base.Generator{UnitRange{Int64}, AbstractCosmologicalEmulators.var\"#3#4\"{Dict{String, Any}}})\n   @ Base ./generator.jl:47\n [3] _get_nn_simplechains(input_dict::Dict{String, Any})\n   @ AbstractCosmologicalEmulators ~/.julia/packages/AbstractCosmologicalEmulators/yb82p/src/initialization.jl:42\n [4] _init_simplechainsemulator(NN_dict::Dict{String, Any}, weight::Vector{Float32})\n   @ AbstractCosmologicalEmulators ~/.julia/packages/AbstractCosmologicalEmulators/yb82p/src/initialization.jl:122\n [5] init_emulator(NN_dict::Dict{String, Any}, weight::Vector{Float32}, #unused#::Type{AbstractCosmologicalEmulators.SimpleChainsEmulator})\n   @ AbstractCosmologicalEmulators ~/.julia/packages/AbstractCosmologicalEmulators/yb82p/src/initialization.jl:129\n [6] pyjlany_call(self::typeof(AbstractCosmologicalEmulators.init_emulator), args_::Py, kwargs_::Py)\n   @ PythonCall ~/.julia/packages/PythonCall/qTEA1/src/jlwrap/any.jl:37\n [7] _pyjl_callmethod(f::Any, self_::Ptr{PythonCall.C.PyObject}, args_::Ptr{PythonCall.C.PyObject}, nargs::Int64)\n   @ PythonCall ~/.julia/packages/PythonCall/qTEA1/src/jlwrap/base.jl:69\n [8] _pyjl_callmethod(o::Ptr{PythonCall.C.PyObject}, args::Ptr{PythonCall.C.PyObject})\n   @ PythonCall.C ~/.julia/packages/PythonCall/qTEA1/src/cpython/jlwrap.jl:47"
     ]
    }
   ],
   "source": [
    "ℓ = np.load(\"l.npy\")\n",
    "\n",
    "weights_TT = np.load(\"weights_TT_lcdm.npy\")\n",
    "trained_emu_TT = pc.init_emulator(nn_setup, weights_TT, pc.simplechainsemulator)\n",
    "CℓTT_emu = Capse.CℓEmulator(TrainedEmulator = trained_emu_TT, ℓgrid = ℓ,\n",
    "                             InMinMax = npzread(weights_folder*\"inMinMax_lcdm.npy\"),\n",
    "                             OutMinMax = npzread(weights_folder*\"outMinMaxCℓTT_lcdm.npy\"))"
   ]
  },
  {
   "cell_type": "code",
   "execution_count": 7,
   "metadata": {},
   "outputs": [],
   "source": [
    "mydict = {'test_key': 'test_value'}"
   ]
  },
  {
   "cell_type": "code",
   "execution_count": null,
   "metadata": {},
   "outputs": [],
   "source": [
    "emu_tt = pc.load_emu(\"emulators_Planck_idm_dr_n4_nonlinear_halofit_TT.bson\")\n",
    "emu_ee = pc.load_emu(\"emulators_Planck_idm_dr_n4_nonlinear_halofit_EE.bson\")\n",
    "emu_te = pc.load_emu(\"emulators_Planck_idm_dr_n4_nonlinear_halofit_TE.bson\")\n",
    "emu_pp = pc.load_emu(\"emulators_Planck_idm_dr_n4_nonlinear_halofit_PP.bson\")"
   ]
  },
  {
   "attachments": {},
   "cell_type": "markdown",
   "metadata": {},
   "source": [
    "## Running the code\n",
    "Now we can actually run the code!\n",
    "The first time you run this cell, it will take some time, since `Julia` needs to precompile the first time you call a function."
   ]
  },
  {
   "cell_type": "code",
   "execution_count": null,
   "metadata": {},
   "outputs": [],
   "source": [
    "lgrid_tt = pc.get_lgrid(emu_tt)\n",
    "lgrid_ee = pc.get_lgrid(emu_ee)\n",
    "lgrid_te = pc.get_lgrid(emu_te)\n",
    "lgrid_pp = pc.get_lgrid(emu_pp)\n",
    "\n",
    "cosmo = np.array([2.8472231, 1.0196047, 0.72768, 0.0206263, 0.1492, 0.068604, 0.289396, 4.])\n",
    "\n",
    "test_TT = pc.compute_Cl(cosmo, emu_tt)\n",
    "test_TE = pc.compute_Cl(cosmo, emu_te)\n",
    "test_EE = pc.compute_Cl(cosmo, emu_ee)\n",
    "test_PP = pc.compute_Cl(cosmo, emu_pp)\n",
    "\n",
    "%timeit pc.compute_Cl(cosmo, emu_tt)"
   ]
  },
  {
   "attachments": {},
   "cell_type": "markdown",
   "metadata": {},
   "source": [
    "We can also see the performance of the code using a vectorized version of the function"
   ]
  },
  {
   "cell_type": "code",
   "execution_count": null,
   "metadata": {},
   "outputs": [],
   "source": [
    "cosmo_vec = np.vstack([cosmo]*500)\n",
    "test_TT_vec = pc.compute_Cl_vec(cosmo_vec, emu_tt)\n",
    "%timeit pc.compute_Cl_vec(cosmo_vec, emu_tt)"
   ]
  },
  {
   "attachments": {},
   "cell_type": "markdown",
   "metadata": {},
   "source": [
    "We can check that the calculation of the standard and vectorized functions are the same"
   ]
  },
  {
   "cell_type": "code",
   "execution_count": null,
   "metadata": {},
   "outputs": [],
   "source": [
    "np.allclose(test_TT_vec[:,0], test_TT)"
   ]
  },
  {
   "attachments": {},
   "cell_type": "markdown",
   "metadata": {},
   "source": [
    "Let's plot the result of our calculations."
   ]
  },
  {
   "cell_type": "code",
   "execution_count": null,
   "metadata": {},
   "outputs": [],
   "source": [
    "plt.plot(lgrid_tt, lgrid_tt*(lgrid_tt+1)*test_TT, label = \"TT\")\n",
    "plt.xlabel(r'$\\ell$')\n",
    "plt.ylabel(r'$\\ell(\\ell+1)C_\\ell^2$')\n",
    "plt.legend()"
   ]
  },
  {
   "cell_type": "code",
   "execution_count": null,
   "metadata": {},
   "outputs": [],
   "source": [
    "plt.plot(lgrid_ee, lgrid_ee*(lgrid_ee+1)*test_EE, label = \"EE\")\n",
    "plt.xlabel(r'$\\ell$')\n",
    "plt.ylabel(r'$\\ell(\\ell+1)C_\\ell^2$')\n",
    "plt.legend()"
   ]
  },
  {
   "cell_type": "code",
   "execution_count": null,
   "metadata": {},
   "outputs": [],
   "source": [
    "plt.plot(lgrid_te, lgrid_te*(lgrid_te+1)*test_TE, label = \"TE\")\n",
    "plt.xlabel(r'$\\ell$')\n",
    "plt.ylabel(r'$\\ell(\\ell+1)C_\\ell^2$')\n",
    "plt.legend()"
   ]
  },
  {
   "cell_type": "code",
   "execution_count": null,
   "metadata": {},
   "outputs": [],
   "source": [
    "plt.plot(lgrid_pp, (lgrid_pp*(lgrid_pp+1))**2*test_PP, label = \"$\\phi\\phi$\")\n",
    "plt.xlabel(r'$\\ell$')\n",
    "plt.ylabel(r'$(\\ell(\\ell+1))^2C_\\ell^2$')\n",
    "plt.legend()"
   ]
  }
 ],
 "metadata": {
  "kernelspec": {
   "display_name": "base",
   "language": "python",
   "name": "python3"
  },
  "language_info": {
   "codemirror_mode": {
    "name": "ipython",
    "version": 3
   },
   "file_extension": ".py",
   "mimetype": "text/x-python",
   "name": "python",
   "nbconvert_exporter": "python",
   "pygments_lexer": "ipython3",
   "version": "3.9.12"
  },
  "orig_nbformat": 4,
  "vscode": {
   "interpreter": {
    "hash": "ffb3864cfd2b79de257e0768de565ff37bc4804afc9fc955831199105acbdaee"
   }
  }
 },
 "nbformat": 4,
 "nbformat_minor": 2
}
