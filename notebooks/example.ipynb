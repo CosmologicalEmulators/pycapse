{
 "cells": [
  {
   "attachments": {},
   "cell_type": "markdown",
   "metadata": {},
   "source": [
    "# `pycapse` usage example\n",
    "\n",
    "In this notebook, we'll show how to use `pycapse` to predict the correlation functions.\n",
    "\n",
    "## Loading relevant libraries\n",
    "\n",
    "The first step is to import the relevant libraries"
   ]
  },
  {
   "cell_type": "code",
   "execution_count": null,
   "metadata": {},
   "outputs": [],
   "source": [
    "import numpy as np\n",
    "import pycapse as pc\n",
    "import matplotlib.pyplot as plt\n",
    "plt.rc('text', usetex=True)\n",
    "plt.rc('font', family='serif')"
   ]
  },
  {
   "attachments": {},
   "cell_type": "markdown",
   "metadata": {},
   "source": [
    "## Loading the trained emulator\n",
    "After succesfully loading `pybora`, we need to load the trained emulator"
   ]
  },
  {
   "cell_type": "code",
   "execution_count": null,
   "metadata": {},
   "outputs": [],
   "source": [
    "emu_tt = pc.load_emu(\"emulators_Planck_idm_dr_n4_nonlinear_halofit_TT.bson\")\n",
    "emu_ee = pc.load_emu(\"emulators_Planck_idm_dr_n4_nonlinear_halofit_EE.bson\")\n",
    "emu_te = pc.load_emu(\"emulators_Planck_idm_dr_n4_nonlinear_halofit_TE.bson\")\n",
    "emu_pp = pc.load_emu(\"emulators_Planck_idm_dr_n4_nonlinear_halofit_PP.bson\")"
   ]
  },
  {
   "attachments": {},
   "cell_type": "markdown",
   "metadata": {},
   "source": [
    "## Running the code\n",
    "Now we can actually run the code!"
   ]
  },
  {
   "cell_type": "code",
   "execution_count": null,
   "metadata": {},
   "outputs": [],
   "source": [
    "lgrid_tt = pc.get_lgrid(emu_tt)\n",
    "lgrid_ee = pc.get_lgrid(emu_ee)\n",
    "lgrid_te = pc.get_lgrid(emu_te)\n",
    "lgrid_pp = pc.get_lgrid(emu_pp)\n",
    "cosmo = np.array([2.8472231, 1.0196047, 0.72768, 0.0206263, 0.1492, 0.068604, 0.289396, 4.])\n",
    "test_TT = pc.compute_Cl(cosmo, emu_tt)\n",
    "test_TE = pc.compute_Cl(cosmo, emu_te)\n",
    "test_EE = pc.compute_Cl(cosmo, emu_ee)\n",
    "test_PP = pc.compute_Cl(cosmo, emu_pp)\n",
    "%timeit pc.compute_Cl(cosmo, emu_tt)"
   ]
  },
  {
   "attachments": {},
   "cell_type": "markdown",
   "metadata": {},
   "source": [
    "Let's plot the result of our calculations."
   ]
  },
  {
   "cell_type": "code",
   "execution_count": null,
   "metadata": {},
   "outputs": [],
   "source": [
    "plt.plot(lgrid_tt, lgrid_tt**2*test_TT, label = \"TT\")\n",
    "plt.xlabel(r'$\\ell$')\n",
    "plt.ylabel(r'$\\ell(\\ell+1)C_\\ell^2$')\n",
    "plt.legend()"
   ]
  },
  {
   "cell_type": "code",
   "execution_count": null,
   "metadata": {},
   "outputs": [],
   "source": [
    "plt.plot(lgrid_ee, lgrid_ee**2*test_EE, label = \"EE\")\n",
    "plt.xlabel(r'$\\ell$')\n",
    "plt.ylabel(r'$\\ell(\\ell+1)C_\\ell^2$')\n",
    "plt.legend()"
   ]
  },
  {
   "cell_type": "code",
   "execution_count": null,
   "metadata": {},
   "outputs": [],
   "source": [
    "plt.plot(lgrid_te, lgrid_te**2*test_TE, label = \"TE\")\n",
    "plt.xlabel(r'$\\ell$')\n",
    "plt.ylabel(r'$\\ell(\\ell+1)C_\\ell^2$')\n",
    "plt.legend()"
   ]
  },
  {
   "cell_type": "code",
   "execution_count": null,
   "metadata": {},
   "outputs": [],
   "source": [
    "plt.plot(lgrid_pp, (lgrid_pp*(lgrid_pp+1))**2*test_PP, label = \"PP\")\n",
    "plt.xlabel(r'$\\ell$')\n",
    "plt.ylabel(r'$(\\ell(\\ell+1))^2C_\\ell^2$')\n",
    "plt.legend()"
   ]
  }
 ],
 "metadata": {
  "kernelspec": {
   "display_name": "base",
   "language": "python",
   "name": "python3"
  },
  "language_info": {
   "codemirror_mode": {
    "name": "ipython",
    "version": 3
   },
   "file_extension": ".py",
   "mimetype": "text/x-python",
   "name": "python",
   "nbconvert_exporter": "python",
   "pygments_lexer": "ipython3",
   "version": "3.9.12"
  },
  "orig_nbformat": 4,
  "vscode": {
   "interpreter": {
    "hash": "ffb3864cfd2b79de257e0768de565ff37bc4804afc9fc955831199105acbdaee"
   }
  }
 },
 "nbformat": 4,
 "nbformat_minor": 2
}
